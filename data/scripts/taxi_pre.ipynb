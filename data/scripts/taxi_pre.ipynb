{
 "metadata": {
  "language_info": {
   "codemirror_mode": {
    "name": "ipython",
    "version": 3
   },
   "file_extension": ".py",
   "mimetype": "text/x-python",
   "name": "python",
   "nbconvert_exporter": "python",
   "pygments_lexer": "ipython3",
   "version": "3.8.3-final"
  },
  "orig_nbformat": 2,
  "kernelspec": {
   "name": "python3",
   "display_name": "Python 3",
   "language": "python"
  }
 },
 "nbformat": 4,
 "nbformat_minor": 2,
 "cells": [
  {
   "source": [
    "## 出租车数据预处理"
   ],
   "cell_type": "markdown",
   "metadata": {}
  },
  {
   "cell_type": "code",
   "execution_count": 3,
   "metadata": {},
   "outputs": [],
   "source": [
    "FILES_DIR = {\n",
    "    # 文件夹\n",
    "    \"taxi_dir\": \"/Volumes/Age's SSD 1/SSD/数据/出租车/201401TRK/TRK20140101/\",\n",
    "    \"taxi_sample\": \"/Volumes/Age's SSD 1/SSD/数据/出租车/201401TRK/TRK20140107/C03/浙C03860.LOG\"\n",
    "}"
   ]
  },
  {
   "cell_type": "code",
   "execution_count": 4,
   "metadata": {},
   "outputs": [],
   "source": [
    "import pandas as pd\n",
    "import json"
   ]
  },
  {
   "cell_type": "code",
   "execution_count": 5,
   "metadata": {
    "tags": []
   },
   "outputs": [],
   "source": [
    "from struct import *\n",
    "import time\n",
    "\n",
    "def read_taxi_raw_file(filename):\n",
    "    fmt = '>ffQ'\n",
    "    ps = []\n",
    "    with open(filename, \"rb\") as f:\n",
    "        line = f.read(39)\n",
    "        while(line):\n",
    "            s = line[0:16]\n",
    "            # 读取二进制文件 https://docs.python.org/zh-cn/3/library/struct.html\n",
    "            data = unpack(fmt, s)\n",
    "            ps.append({\n",
    "                \"longitude\": data[0],\n",
    "                \"latitude\": data[1],\n",
    "                \"time\": time.strftime(\"%Y-%m-%d %H:%M:%S\",  time.localtime(data[2]/1000))\n",
    "            })\n",
    "            line = f.read(39)\n",
    "    return ps\n",
    "\n",
    "# 读取 Log 文件到 Dataframe\n",
    "def read_taxi_df(filename):\n",
    "    points = read_taxi_raw_file(filename)\n",
    "    df_taxi = pd.DataFrame(points)\n",
    "    return df_taxi\n",
    "\n",
    "# read_taxi_df(FILES_DIR[\"taxi_sample\"])"
   ]
  },
  {
   "cell_type": "code",
   "execution_count": 9,
   "metadata": {
    "tags": []
   },
   "outputs": [],
   "source": [
    "import json\n",
    "\n",
    "def pack_one_taxi_to_json(df, carNo):\n",
    "    points_str = df.to_json(orient='records')\n",
    "    points = json.loads(points_str)\n",
    "    taxi_trajectory = {\n",
    "        \"carNo\": carNo,\n",
    "        \"points\": points\n",
    "    }\n",
    "    return taxi_trajectory\n",
    "    # file_name = carNo + '.json'\n",
    "# j = pack_one_taxi_to_json(df_taxi_points, carNo)\n",
    "# print(json.dumps(j, indent=4))\n",
    "\n",
    "def write_json_to_file(json_obj, filename='taxi.json'):\n",
    "    path = '../data_in_use/'\n",
    "    filename = path + filename\n",
    "    with open(filename, 'w') as outfile:\n",
    "        json.dump(json_obj, outfile)"
   ]
  },
  {
   "cell_type": "code",
   "execution_count": 10,
   "metadata": {
    "tags": []
   },
   "outputs": [
    {
     "output_type": "stream",
     "name": "stdout",
     "text": [
      "doing 浙C02668.LOG...\n",
      "doing 浙C02678.LOG...\n",
      "doing 浙C03860.LOG...\n",
      "doing 浙C04248.LOG...\n",
      "doing 浙C04337.LOG...\n",
      "doing 浙C04348.LOG...\n",
      "doing 浙C04351.LOG...\n",
      "doing 浙C04628.LOG...\n",
      "doing 浙C04651.LOG...\n",
      "doing 浙C04652.LOG...\n",
      "doing 浙C04658.LOG...\n",
      "doing 浙C04675.LOG...\n",
      "doing 浙C04876.LOG...\n",
      "doing 浙C04937.LOG...\n",
      "doing 浙C04974.LOG...\n",
      "doing 浙C05132.LOG...\n",
      "doing 浙C05135.LOG...\n",
      "doing 浙C05196.LOG...\n",
      "doing 浙C05202.LOG...\n",
      "doing 浙C05203.LOG...\n",
      "done !\n"
     ]
    }
   ],
   "source": [
    "from os import walk\n",
    "\n",
    "# 获取文件列表\n",
    "def list_files():\n",
    "    raw_files = []\n",
    "    BASE_PATH = FILES_DIR[\"taxi_dir\"]\n",
    "    for (dirpath, dirnames, filenames) in walk(FILES_DIR[\"taxi_dir\"]):\n",
    "        if(len(dirnames) == 0):\n",
    "            for filename in filenames:\n",
    "                raw_files.append(\n",
    "                    [dirpath + '/' + filename, filename]\n",
    "                )\n",
    "    return raw_files\n",
    "\n",
    "# 读取原始文件 并转换至 json 格式\n",
    "def read_files(num = 20):\n",
    "    files = list_files()\n",
    "    jsons = []\n",
    "    c = 0\n",
    "    for [f, carNo] in files:\n",
    "        print('doing ' + carNo + '...')\n",
    "        c = c + 1\n",
    "        df = read_taxi_df(f)\n",
    "        taxi_json = pack_one_taxi_to_json(df, carNo)\n",
    "        jsons.append(taxi_json)\n",
    "        if c >= num:\n",
    "            break\n",
    "    write_json_to_file(jsons)\n",
    "    print('done !')\n",
    "read_files()"
   ]
  },
  {
   "cell_type": "code",
   "execution_count": null,
   "metadata": {},
   "outputs": [],
   "source": []
  }
 ]
}