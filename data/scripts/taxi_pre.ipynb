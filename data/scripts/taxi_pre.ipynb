{
 "cells": [
  {
   "cell_type": "markdown",
   "metadata": {},
   "source": [
    "## 出租车数据预处理"
   ]
  },
  {
   "cell_type": "code",
   "execution_count": 1,
   "metadata": {},
   "outputs": [],
   "source": [
    "FILES_DIR = {\n",
    "    # 文件夹\n",
    "    \"taxi_dir\": \"E:\\MSE\\VAG\\VIS2021\\温州数据\\温州出租车数据\\TRK20140101\",\n",
    "#     \"taxi_dir\": \"/Volumes/Age's SSD 1/SSD/数据/出租车/201401TRK/TRK20140101\",\n",
    "    \"taxi_sample\": \"/Volumes/Age's SSD 1/SSD/数据/出租车/201401TRK/TRK20140107/C03/浙C03860.LOG\"\n",
    "}"
   ]
  },
  {
   "cell_type": "code",
   "execution_count": 2,
   "metadata": {},
   "outputs": [],
   "source": [
    "import pandas as pd\n",
    "import json"
   ]
  },
  {
   "cell_type": "code",
   "execution_count": 3,
   "metadata": {
    "tags": []
   },
   "outputs": [],
   "source": [
    "from struct import *\n",
    "import time\n",
    "\n",
    "def inRange(area,point):\n",
    "    return point['longitude']>area[\"minLng\"] and point['longitude']<area[\"maxLng\"] and point[\"latitude\"]>area[\"minLat\"] and point[\"latitude\"]<area[\"maxLat\"]\n",
    "\n",
    "def read_taxi_raw_file(area,filename):\n",
    "    fmt = '>ffQ'\n",
    "    ps = []\n",
    "    with open(filename, \"rb\") as f:\n",
    "        line = f.read(39)\n",
    "        while(line):\n",
    "            s = line[0:16]\n",
    "            # 读取二进制文件 https://docs.python.org/zh-cn/3/library/struct.html\n",
    "            data = unpack(fmt, s)\n",
    "            point = {\n",
    "                \"longitude\": data[0],\n",
    "                \"latitude\": data[1]\n",
    "            }\n",
    "            if inRange(area,point):\n",
    "                point[\"time\"]=time.strftime(\"%Y-%m-%d %H:%M:%S\",  time.localtime(data[2]/1000))\n",
    "                ps.append(point)\n",
    "            line = f.read(39)\n",
    "    return ps\n",
    "\n",
    "# 读取 Log 文件到 Dataframe\n",
    "def read_taxi_df(area,filename):\n",
    "    points = read_taxi_raw_file(area,filename)\n",
    "    df_taxi = pd.DataFrame(points)\n",
    "    return df_taxi\n",
    "# read_taxi_df(FILES_DIR[\"taxi_sample\"])"
   ]
  },
  {
   "cell_type": "code",
   "execution_count": 4,
   "metadata": {
    "tags": []
   },
   "outputs": [],
   "source": [
    "import json\n",
    "\n",
    "def pack_one_taxi_to_json(df, carNo):\n",
    "    points_str = df.to_json(orient='records')\n",
    "    points = json.loads(points_str)\n",
    "    taxi_trajectory = {\n",
    "        \"carNo\": carNo,\n",
    "        \"points\": points\n",
    "    }\n",
    "    return taxi_trajectory\n",
    "    # file_name = carNo + '.json'\n",
    "# j = pack_one_taxi_to_json(df_taxi_points, carNo)\n",
    "# print(json.dumps(j, indent=4))\n",
    "\n",
    "def write_json_to_file(json_obj, filename='taxi.json'):\n",
    "    path = '../data_in_use/'\n",
    "    filename = path + filename\n",
    "    with open(filename, 'w') as outfile:\n",
    "        json.dump(json_obj, outfile)\n",
    "\n",
    "def write_json_to_node_server_file(json_obj, filename='taxi.json'):\n",
    "    path = '../node-server-data/'\n",
    "    filename = path + filename\n",
    "    with open(filename, 'w') as outfile:\n",
    "        json.dump(json_obj, outfile)"
   ]
  },
  {
   "cell_type": "code",
   "execution_count": 5,
   "metadata": {
    "tags": []
   },
   "outputs": [
    {
     "name": "stdout",
     "output_type": "stream",
     "text": [
      "done !\n"
     ]
    }
   ],
   "source": [
    "from os import walk\n",
    "import util\n",
    "# import json\n",
    "# 获取文件列表\n",
    "def list_files():\n",
    "    raw_files = []\n",
    "    BASE_PATH = FILES_DIR[\"taxi_dir\"]\n",
    "    for (dirpath, dirnames, filenames) in walk(FILES_DIR[\"taxi_dir\"]):\n",
    "        if(len(dirnames) == 0):\n",
    "            for filename in filenames:\n",
    "                if \"._\" not in filename:\n",
    "                    raw_files.append(\n",
    "                        [dirpath + '/' + filename, filename]\n",
    "                    )\n",
    "    # print(len(raw_files))\n",
    "    return raw_files\n",
    "\n",
    "# 读取原始文件 并转换至 json 格式\n",
    "def read_files(area,num = 20):\n",
    "    files = list_files()\n",
    "    jsons = []\n",
    "    c = 0\n",
    "    for [f, carNo] in files:\n",
    "        # print('doing ' + carNo + '...')\n",
    "        c = c + 1\n",
    "        df = read_taxi_df(area,f)\n",
    "        taxi_json = pack_one_taxi_to_json(df, carNo)\n",
    "        jsons.append(taxi_json)\n",
    "        if c >= num:\n",
    "            break\n",
    "    write_json_to_file(jsons, 'taxi_'+ str(num) + '.json')\n",
    "    print('done !')\n",
    "\n",
    "# area = {\n",
    "#         \"minLat\" : 27.958246,\n",
    "#         \"maxLat\" : 28.027669,\n",
    "#         \"minLng\" : 120.593029,\n",
    "#         \"maxLng\" : 120.747524\n",
    "# } \n",
    "config = util.getJsonData('./config.json')\n",
    "read_files(config[\"area\"],1000)"
   ]
  },
  {
   "cell_type": "markdown",
   "metadata": {},
   "source": [
    "#### VAUD  Case 部分"
   ]
  },
  {
   "cell_type": "markdown",
   "metadata": {},
   "source": [
    "### 1. 找到两辆目标出租车的轨迹"
   ]
  },
  {
   "cell_type": "code",
   "execution_count": 6,
   "metadata": {
    "tags": []
   },
   "outputs": [],
   "source": [
    "cars = ['0230', '1168']\n",
    "\n",
    "def find_cars_with_id(targetCarIds):\n",
    "    files = list_files()\n",
    "    carFiles = []\n",
    "    for file in files:\n",
    "        carNo = file[1]\n",
    "        for carId in targetCarIds:\n",
    "            if(carNo.find(carId) != -1):\n",
    "                carFiles.append(file)\n",
    "                break\n",
    "    # print(carFiles)\n",
    "    for [f, carNo] in carFiles:\n",
    "        df = read_taxi_df(f)\n",
    "        taxiJson = pack_one_taxi_to_json(df, carNo)\n",
    "        write_json_to_node_server_file(taxiJson, 'taxi_'+ carNo + '.json')\n",
    "        print('Write Car ' + carNo + ' Done!')\n",
    "    \n",
    "# find_cars_with_id(cars)"
   ]
  }
 ],
 "metadata": {
  "kernelspec": {
   "display_name": "Python 3",
   "language": "python",
   "name": "python3"
  },
  "language_info": {
   "codemirror_mode": {
    "name": "ipython",
    "version": 3
   },
   "file_extension": ".py",
   "mimetype": "text/x-python",
   "name": "python",
   "nbconvert_exporter": "python",
   "pygments_lexer": "ipython3",
   "version": "3.7.4"
  }
 },
 "nbformat": 4,
 "nbformat_minor": 2
}
