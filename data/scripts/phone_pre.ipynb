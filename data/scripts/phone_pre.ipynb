{
 "cells": [
  {
   "cell_type": "markdown",
   "metadata": {},
   "source": [
    "## 手机基站数据预处理"
   ]
  },
  {
   "cell_type": "code",
   "execution_count": 20,
   "metadata": {},
   "outputs": [],
   "source": [
    "FILES_DIR = {\n",
    "    # 基站\n",
    "    \"base_station\" : \"E:/MSE/VAG/VIS2021/温州数据/手机基站数据/basestation.json\",\n",
    "    # 手机记录文件夹\n",
    "    \"phone_dir\": \"E:/MSE/VAG/VIS2021/温州数据/手机基站数据/trajs/\"\n",
    "    # \"phone\": \"/Volumes/Age's SSD 1/SSD/数据/手机基站/phonetraj14-15/phonetraj0114/mpt2014114 1140010sortbyid.txt\"\n",
    "}\n",
    "import pandas as pd\n",
    "import json"
   ]
  },
  {
   "cell_type": "markdown",
   "metadata": {},
   "source": [
    "### 基站数据 ↓\n",
    "\n",
    "手机基站\n",
    "\n",
    "每条文档包括基站的坐标、基站的 LAC 码和 CELLID，通过 LAC 码和 CELLID 可以唯一定位一座手机基站。"
   ]
  },
  {
   "cell_type": "code",
   "execution_count": 21,
   "metadata": {},
   "outputs": [
    {
     "name": "stdout",
     "output_type": "stream",
     "text": [
      "102004\n",
      "7346\n"
     ]
    }
   ],
   "source": [
    "df_station = pd.read_json(FILES_DIR[\"base_station\"])\n",
    "\n",
    "import config as C\n",
    "# b = C.bounds\n",
    "b={\n",
    "    \"lat\":[27.896002,28.028822],\n",
    "    \"lng\":[120.602985,120.785633]\n",
    "} \n",
    "# 120.602985,28.028822\n",
    "# 120.785633,27.896002\n",
    "# b = {\n",
    "#   \"lng\": [120.65511703491211, 120.66254138946533],\n",
    "#   \"lat\": [28.012285879891284, 28.01736270918544]\n",
    "# }\n",
    "print(len(df_station))\n",
    "df_station_filter_in_loca = df_station\n",
    "df_station_filter_in_loca = df_station_filter_in_loca[ df_station_filter_in_loca['longitude'] > b['lng'][0] ]\n",
    "df_station_filter_in_loca = df_station_filter_in_loca[ df_station_filter_in_loca['longitude'] < b['lng'][1] ]\n",
    "df_station_filter_in_loca = df_station_filter_in_loca[ df_station_filter_in_loca['latitude'] > b['lat'][0] ]\n",
    "df_station_filter_in_loca = df_station_filter_in_loca[ df_station_filter_in_loca['latitude'] < b['lat'][1] ]\n",
    "df_station = df_station_filter_in_loca\n",
    "print(len(df_station))"
   ]
  },
  {
   "cell_type": "markdown",
   "metadata": {},
   "source": [
    "### 手机轨迹 ↓\n",
    "\n",
    "每条记录只包含手机的 IMEI 码、日志的时间戳、记录这条数据的手机基站的 LAC 码和 CELLID\n",
    "\n",
    "轨迹文件按照 10min时间块存储,\n",
    "\n",
    "202091150448482;2014-01-13 23:52:58.37,22492 24185;2014-01-13 23:53:00.25,22492 24185;"
   ]
  },
  {
   "cell_type": "code",
   "execution_count": 22,
   "metadata": {},
   "outputs": [],
   "source": [
    "# 读取手机基站轨迹原始文件\n",
    "def read_phone_raw_file(filename):\n",
    "    phone_trajs = []\n",
    "    with open(filename) as f:\n",
    "        lines = f.readlines()\n",
    "        for line in lines:\n",
    "            phone_trajs.append(\n",
    "                split_line_to_trajectory(line)\n",
    "            )\n",
    "    return phone_trajs\n",
    "\n",
    "def split_line_to_trajectory(line):\n",
    "    arr = line.split(\";\")\n",
    "    trajectory = {\n",
    "        \"IMEI\": arr[0],\n",
    "        \"POINT\": []\n",
    "    }\n",
    "    for point in arr[1:-1]:\n",
    "        parr = point.split(\",\")\n",
    "        trajectory[\"POINT\"].append({\n",
    "            \"time\": parr[0],\n",
    "            \"sid\": parr[1]\n",
    "        })\n",
    "    return trajectory\n",
    "# sample_line = \"202091150448482;2014-01-13 23:52:58.37,22492 24185;2014-01-13 23:53:00.25,22492 24185;\"\n",
    "# print(split_line_to_trajectory(sample_line))"
   ]
  },
  {
   "cell_type": "code",
   "execution_count": 23,
   "metadata": {},
   "outputs": [],
   "source": [
    "from os import walk\n",
    "\n",
    "# 获取文件列表\n",
    "def list_files():\n",
    "    phone_raw_files = []\n",
    "    for (dirpath, dirnames, filenames) in walk(FILES_DIR[\"phone_dir\"]):\n",
    "        phone_raw_files.extend(filenames)\n",
    "    return phone_raw_files\n",
    "\n",
    "# 读取所有文件中的数据\n",
    "def read_files():\n",
    "    files = list_files()\n",
    "    BASE_PATH = FILES_DIR[\"phone_dir\"]\n",
    "    print(\"files: \" + str(len(files)))\n",
    "    print(files[0])\n",
    "    f = BASE_PATH + files[0]\n",
    "    return read_phone_raw_file(f)"
   ]
  },
  {
   "cell_type": "markdown",
   "metadata": {},
   "source": [
    "### 数据格式"
   ]
  },
  {
   "cell_type": "code",
   "execution_count": 24,
   "metadata": {},
   "outputs": [
    {
     "name": "stdout",
     "output_type": "stream",
     "text": [
      "files: 1\n",
      "mpt2014114 1140910sortbyid.txt\n"
     ]
    },
    {
     "data": {
      "text/plain": [
       "1186898"
      ]
     },
     "execution_count": 24,
     "metadata": {},
     "output_type": "execute_result"
    }
   ],
   "source": [
    "## 手机用户轨迹\n",
    "phones = read_files()\n",
    "len(phones)"
   ]
  },
  {
   "cell_type": "code",
   "execution_count": 25,
   "metadata": {},
   "outputs": [],
   "source": [
    "# print(json.dumps(phones[1:10], indent=4))"
   ]
  },
  {
   "cell_type": "code",
   "execution_count": 26,
   "metadata": {
    "scrolled": true
   },
   "outputs": [],
   "source": [
    "#  策略\n",
    "#  1. 如果找不到对应基站，该点 筛去\n",
    "def add_lnglat_to_phone_trajectory(phone):\n",
    "    points = phone['POINT']\n",
    "    new_points = []\n",
    "    for i in range(len(points)-1):\n",
    "        p = points[i]\n",
    "        try:\n",
    "            lac_cell = p['sid'].split(' ')\n",
    "            lac = int(lac_cell[0])\n",
    "            cell = int(lac_cell[1])\n",
    "            df_find = find_in_station_df(lac, cell)\n",
    "        except:\n",
    "            phone[\"POINT\"]=phone[\"POINT\"][0:i]\n",
    "            break;\n",
    "            continue\n",
    "        else:\n",
    "            p['longitude'] = df_find[0]\n",
    "            p['latitude'] = df_find[1]\n",
    "            del p['sid']\n",
    "    phone['points'] = phone.pop('POINT')\n",
    "    \n",
    "    for p in phone['points']:\n",
    "        if('sid' not in p):\n",
    "            new_points.append(p)\n",
    "    phone['points'] = new_points\n",
    "            \n",
    "\n",
    "\n",
    "def find_in_station_df(lac, cell):\n",
    "    df = df_station\n",
    "    df_find = df.loc[(df['lac'] == lac) & (df['cell'] == cell)]\n",
    "    # print(df_find['longitude'])\n",
    "    if(len(df_find) != 1):\n",
    "        raise Exception(\"Cant Find Station!\")\n",
    "    return df_find[['longitude','latitude']].values[0]\n",
    "\n",
    "def write_json_to_file(json_obj, filename='phone.json'):\n",
    "    path = '../data_in_use/'\n",
    "    filename = path + filename\n",
    "    with open(filename, 'w') as outfile:\n",
    "        json.dump(json_obj, outfile)\n",
    "    "
   ]
  },
  {
   "cell_type": "code",
   "execution_count": 27,
   "metadata": {},
   "outputs": [],
   "source": [
    "   # 将程序得到的轨迹转化成矢量场所需的轨迹形式\n",
    "\n",
    "def write_vectorJson_to_file(trajs):\n",
    "    trajectories = []\n",
    "    for traj in trajs:\n",
    "        item = []\n",
    "        last = ['','']\n",
    "        for i in range(len(traj[\"points\"])-2,-1,-1):\n",
    "            p = traj[\"points\"][i]\n",
    "#             print(last,p)\n",
    "            if last[0]==p['latitude'] and last[1] == p['longitude']:\n",
    "                continue\n",
    "            else:\n",
    "                item.append([p[\"latitude\"],p[\"longitude\"]])\n",
    "                last = [p['latitude'],p['longitude']]\n",
    "        if len(item)>1:\n",
    "            trajectories.append(item)\n",
    "    result = {\n",
    "        \"bbx\":[b['lat'][0],b['lat'][1],b['lng'][0],b['lng'][1]],\n",
    "        \"trajectories\":trajectories\n",
    "    }\n",
    "    filename = '../data_in_bishe/trajectories.json'\n",
    "    with open(filename, 'w') as outfile:\n",
    "        json.dump(result, outfile)"
   ]
  },
  {
   "cell_type": "code",
   "execution_count": 28,
   "metadata": {
    "scrolled": true,
    "tags": []
   },
   "outputs": [
    {
     "name": "stdout",
     "output_type": "stream",
     "text": [
      "doing 1000 ...\n",
      "doing 2000 ...\n",
      "doing 3000 ...\n",
      "doing 4000 ...\n",
      "doing 5000 ...\n",
      "doing 6000 ...\n",
      "doing 7000 ...\n",
      "doing 8000 ...\n",
      "doing 9000 ...\n",
      "轨迹数据写入完成\n",
      "done!,轨迹点为空的个数为 7946 0.7946\n"
     ]
    }
   ],
   "source": [
    "import functools\n",
    "def compare(x, y):\n",
    "    if x[\"time\"] > y[\"time\"]:\n",
    "        return 1\n",
    "    if x[\"time\"] < y[\"time\"]:\n",
    "        return -1\n",
    "    return 0\n",
    "# 连续两个相同基站时删除重复基站记录,保留最后一个元素来确保知道最后的时间点\n",
    "def filterRepeatedPoints(points):\n",
    "    last = ''\n",
    "    for i in range(len(points)-2,-1,-1):\n",
    "        p = points[i]\n",
    "        if last == p['sid']:\n",
    "            points.pop(i+1)\n",
    "        else:\n",
    "            last = p['sid']\n",
    "def pack_data(num = 10000):\n",
    "    c = 0\n",
    "    new_phones = []\n",
    "    empty_count = 0\n",
    "    for phone in phones[1:num]:\n",
    "        #先给points按照时间排序===========================================\n",
    "        phone[\"POINT\"] = sorted(phone[\"POINT\"], key=functools.cmp_to_key(compare))\n",
    "        filterRepeatedPoints(phone[\"POINT\"])\n",
    "#         ==========================================================\n",
    "        add_lnglat_to_phone_trajectory(phone)\n",
    "        c = c + 1\n",
    "        if(len(phone['points']) > 0):\n",
    "            new_phones.append(phone)\n",
    "        else:\n",
    "            empty_count+=1\n",
    "#             print(phone)\n",
    "        if(c % 1000 == 0):\n",
    "            print('doing ' + str(c) + ' ...')\n",
    "\n",
    "    write_json_to_file(new_phones)\n",
    "    print(\"轨迹数据写入完成\")\n",
    "    write_vectorJson_to_file(new_phones)\n",
    "    print('done!,轨迹点为空的个数为',empty_count,empty_count/num)\n",
    "\n",
    "pack_data(10000 * 1)"
   ]
  },
  {
   "cell_type": "code",
   "execution_count": null,
   "metadata": {},
   "outputs": [],
   "source": []
  }
 ],
 "metadata": {
  "kernelspec": {
   "display_name": "Python 3",
   "language": "python",
   "name": "python3"
  },
  "language_info": {
   "codemirror_mode": {
    "name": "ipython",
    "version": 3
   },
   "file_extension": ".py",
   "mimetype": "text/x-python",
   "name": "python",
   "nbconvert_exporter": "python",
   "pygments_lexer": "ipython3",
   "version": "3.7.4"
  }
 },
 "nbformat": 4,
 "nbformat_minor": 2
}
