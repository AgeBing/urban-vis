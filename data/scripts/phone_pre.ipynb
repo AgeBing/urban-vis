{
 "metadata": {
  "language_info": {
   "codemirror_mode": {
    "name": "ipython",
    "version": 3
   },
   "file_extension": ".py",
   "mimetype": "text/x-python",
   "name": "python",
   "nbconvert_exporter": "python",
   "pygments_lexer": "ipython3",
   "version": "3.8.3-final"
  },
  "orig_nbformat": 2,
  "kernelspec": {
   "name": "python3",
   "display_name": "Python 3",
   "language": "python"
  }
 },
 "nbformat": 4,
 "nbformat_minor": 2,
 "cells": [
  {
   "source": [
    "## 手机基站数据预处理"
   ],
   "cell_type": "markdown",
   "metadata": {}
  },
  {
   "cell_type": "code",
   "execution_count": null,
   "metadata": {},
   "outputs": [],
   "source": [
    "FILES_DIR = {\n",
    "    # 基站\n",
    "    \"base_station\" : \"/Volumes/Age's SSD 1/SSD/数据/手机基站/basestation.json\",\n",
    "    # 手机记录文件夹\n",
    "    \"phone_dir\": \"/Volumes/Age's SSD 1/SSD/数据/手机基站/phonetraj14-15/phonetraj0114/\"\n",
    "    # \"phone\": \"/Volumes/Age's SSD 1/SSD/数据/手机基站/phonetraj14-15/phonetraj0114/mpt2014114 1140010sortbyid.txt\"\n",
    "}"
   ]
  },
  {
   "cell_type": "code",
   "execution_count": null,
   "metadata": {},
   "outputs": [],
   "source": [
    "import pandas as pd\n",
    "import json"
   ]
  },
  {
   "source": [
    "### 基站数据 ↓\n",
    "\n",
    "手机基站\n",
    "\n",
    "每条文档包括基站的坐标、基站的 LAC 码和 CELLID，通过 LAC 码和 CELLID 可以唯一定位一座手机基站。"
   ],
   "cell_type": "markdown",
   "metadata": {}
  },
  {
   "cell_type": "code",
   "execution_count": null,
   "metadata": {},
   "outputs": [],
   "source": [
    "df_station = pd.read_json(FILES_DIR[\"base_station\"])\n",
    "# df_station"
   ]
  },
  {
   "source": [
    "### 手机轨迹 ↓\n",
    "\n",
    "每条记录只包含手机的 IMEI 码、日志的时间戳、记录这条数据的手机基站的 LAC 码和 CELLID\n",
    "\n",
    "轨迹文件按照 10min时间块存储,\n",
    "\n",
    "202091150448482;2014-01-13 23:52:58.37,22492 24185;2014-01-13 23:53:00.25,22492 24185;"
   ],
   "cell_type": "markdown",
   "metadata": {}
  },
  {
   "cell_type": "code",
   "execution_count": null,
   "metadata": {},
   "outputs": [],
   "source": [
    "# 读取手机基站轨迹原始文件\n",
    "def read_phone_raw_file(filename):\n",
    "    phone_trajs = []\n",
    "    with open(filename) as f:\n",
    "        lines = f.readlines()\n",
    "        for line in lines:\n",
    "            phone_trajs.append(\n",
    "                split_line_to_trajectory(line)\n",
    "            )\n",
    "    return phone_trajs\n",
    "\n",
    "def split_line_to_trajectory(line):\n",
    "    arr = line.split(\";\")\n",
    "    trajectory = {\n",
    "        \"IMEI\": arr[0],\n",
    "        \"POINT\": []\n",
    "    }\n",
    "    for point in arr[1:-1]:\n",
    "        parr = point.split(\",\")\n",
    "        trajectory[\"POINT\"].append({\n",
    "            \"time\": parr[0],\n",
    "            \"sid\": parr[1]\n",
    "        })\n",
    "    return trajectory\n",
    "# sample_line = \"202091150448482;2014-01-13 23:52:58.37,22492 24185;2014-01-13 23:53:00.25,22492 24185;\"\n",
    "# print(split_line_to_trajectory(sample_line))"
   ]
  },
  {
   "cell_type": "code",
   "execution_count": null,
   "metadata": {},
   "outputs": [],
   "source": [
    "from os import walk\n",
    "\n",
    "# 获取文件列表\n",
    "def list_files():\n",
    "    phone_raw_files = []\n",
    "    for (dirpath, dirnames, filenames) in walk(FILES_DIR[\"phone_dir\"]):\n",
    "        phone_raw_files.extend(filenames)\n",
    "    return phone_raw_files\n",
    "\n",
    "# 读取所有文件中的数据\n",
    "def read_files():\n",
    "    files = list_files()\n",
    "    BASE_PATH = FILES_DIR[\"phone_dir\"]\n",
    "    print(\"files: \")\n",
    "    print(files[0])\n",
    "    f = BASE_PATH + files[0]\n",
    "    return read_phone_raw_file(f)"
   ]
  },
  {
   "source": [
    "### 数据格式"
   ],
   "cell_type": "markdown",
   "metadata": {}
  },
  {
   "cell_type": "code",
   "execution_count": null,
   "metadata": {},
   "outputs": [],
   "source": [
    "## 手机基站位置\n",
    "df_station"
   ]
  },
  {
   "cell_type": "code",
   "execution_count": null,
   "metadata": {},
   "outputs": [],
   "source": [
    "## 手机用户轨迹\n",
    "phones = read_files()"
   ]
  },
  {
   "cell_type": "code",
   "execution_count": null,
   "metadata": {},
   "outputs": [],
   "source": [
    "phones[0:10]"
   ]
  }
 ]
}