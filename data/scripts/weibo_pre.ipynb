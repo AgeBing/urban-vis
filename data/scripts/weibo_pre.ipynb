{
 "metadata": {
  "language_info": {
   "codemirror_mode": {
    "name": "ipython",
    "version": 3
   },
   "file_extension": ".py",
   "mimetype": "text/x-python",
   "name": "python",
   "nbconvert_exporter": "python",
   "pygments_lexer": "ipython3",
   "version": "3.8.3-final"
  },
  "orig_nbformat": 2,
  "kernelspec": {
   "name": "python3",
   "display_name": "Python 3",
   "language": "python"
  }
 },
 "nbformat": 4,
 "nbformat_minor": 2,
 "cells": [
  {
   "source": [
    "## 微博数据处理"
   ],
   "cell_type": "markdown",
   "metadata": {}
  },
  {
   "cell_type": "code",
   "execution_count": null,
   "metadata": {},
   "outputs": [],
   "source": [
    "FILES_DIR  = {\n",
    "    \"weibo_dir\" : \"/Volumes/Age's SSD 1/SSD/数据/微博数据/\"\n",
    "}"
   ]
  },
  {
   "cell_type": "code",
   "execution_count": null,
   "metadata": {},
   "outputs": [],
   "source": [
    "from os import walk\n",
    "import pandas as pd\n",
    "import numpy as np\n",
    "\n",
    "# 获取文件列表\n",
    "def list_files():\n",
    "    weibo_raw_files = []\n",
    "    for (dirpath, dirnames, filenames) in walk(FILES_DIR[\"weibo_dir\"]):\n",
    "        weibo_raw_files.extend(filenames)\n",
    "    return weibo_raw_files\n",
    "\n",
    "def read_files():\n",
    "    files = list_files()\n",
    "    BASE_PATH = FILES_DIR[\"weibo_dir\"]\n",
    "    dfs = []\n",
    "    for _file in files:\n",
    "        f = BASE_PATH + _file\n",
    "        df = read_weibo_raw_file(f)\n",
    "        dfs.append(df)\n",
    "    return pd.concat(dfs)\n",
    "\n",
    "def read_weibo_raw_file(filename):\n",
    "    return pd.read_csv(filename, sep=\"$\",names=[\"time\",\"name\",\"content\",\"road\",\"loca\"])\n",
    "\n",
    "df_weibo = read_files()\n",
    "# df_weibo_cut = df_weibo.head()\n",
    "df_weibo_cut = df_weibo[0:1000]"
   ]
  },
  {
   "cell_type": "code",
   "execution_count": null,
   "metadata": {
    "tags": []
   },
   "outputs": [],
   "source": [
    "\n",
    "def splitlnglat(row):\n",
    "    try:\n",
    "        lnglat = row['loca'].split(\"_\")\n",
    "    except:\n",
    "        row['lng'] = row['lat'] = np.nan    \n",
    "    else:\n",
    "        if(len(lnglat) < 2):\n",
    "            row['lng'] = row['lat'] = np.nan\n",
    "        else:\n",
    "            row['lng'] = lnglat[0]\n",
    "            row['lat'] = lnglat[1]\n",
    "    return row\n",
    "df_weibo_cut = df_weibo_cut.apply(splitlnglat, axis=1)\n",
    "df_weibo_cut.drop(columns=[\"loca\"],inplace=True)\n",
    "# df_weibo_cut.drop(columns=[\"name\",\"loca\",\"road\"],inplace=True)\n",
    "df_weibo_cut.dropna(inplace=True)"
   ]
  },
  {
   "cell_type": "code",
   "execution_count": null,
   "metadata": {},
   "outputs": [],
   "source": [
    "df_weibo_cut"
   ]
  }
 ]
}