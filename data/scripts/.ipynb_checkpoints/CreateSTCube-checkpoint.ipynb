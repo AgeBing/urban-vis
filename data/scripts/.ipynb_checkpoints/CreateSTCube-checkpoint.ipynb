{
 "cells": [
  {
   "cell_type": "code",
   "execution_count": 1,
   "metadata": {},
   "outputs": [
    {
     "ename": "NameError",
     "evalue": "name 'math' is not defined",
     "output_type": "error",
     "traceback": [
      "\u001b[1;31m---------------------------------------------------------------------------\u001b[0m",
      "\u001b[1;31mNameError\u001b[0m                                 Traceback (most recent call last)",
      "\u001b[1;32m<ipython-input-1-296e795c0029>\u001b[0m in \u001b[0;36m<module>\u001b[1;34m\u001b[0m\n\u001b[0;32m     20\u001b[0m }\n\u001b[0;32m     21\u001b[0m \u001b[0mgridWidth\u001b[0m \u001b[1;33m=\u001b[0m \u001b[1;33m(\u001b[0m\u001b[0marea\u001b[0m\u001b[1;33m[\u001b[0m\u001b[1;34m\"maxLng\"\u001b[0m\u001b[1;33m]\u001b[0m\u001b[1;33m-\u001b[0m\u001b[0marea\u001b[0m\u001b[1;33m[\u001b[0m\u001b[1;34m\"minLng\"\u001b[0m\u001b[1;33m]\u001b[0m\u001b[1;33m)\u001b[0m\u001b[1;33m/\u001b[0m\u001b[0msplitLngNum\u001b[0m\u001b[1;33m\u001b[0m\u001b[1;33m\u001b[0m\u001b[0m\n\u001b[1;32m---> 22\u001b[1;33m \u001b[0msplitLatNum\u001b[0m \u001b[1;33m=\u001b[0m \u001b[0mmath\u001b[0m\u001b[1;33m.\u001b[0m\u001b[0mceil\u001b[0m\u001b[1;33m(\u001b[0m\u001b[1;33m(\u001b[0m\u001b[0marea\u001b[0m\u001b[1;33m[\u001b[0m\u001b[1;34m\"maxLat\"\u001b[0m\u001b[1;33m]\u001b[0m\u001b[1;33m-\u001b[0m\u001b[0marea\u001b[0m\u001b[1;33m[\u001b[0m\u001b[1;34m\"minLat\"\u001b[0m\u001b[1;33m]\u001b[0m\u001b[1;33m)\u001b[0m\u001b[1;33m/\u001b[0m\u001b[0mgridWidth\u001b[0m\u001b[1;33m)\u001b[0m\u001b[1;33m\u001b[0m\u001b[1;33m\u001b[0m\u001b[0m\n\u001b[0m\u001b[0;32m     23\u001b[0m \u001b[0msplitTimeNum\u001b[0m \u001b[1;33m=\u001b[0m \u001b[0mmath\u001b[0m\u001b[1;33m.\u001b[0m\u001b[0mceil\u001b[0m\u001b[1;33m(\u001b[0m\u001b[1;36m1440\u001b[0m\u001b[1;33m/\u001b[0m\u001b[0msplitInterval\u001b[0m\u001b[1;33m)\u001b[0m\u001b[1;33m\u001b[0m\u001b[1;33m\u001b[0m\u001b[0m\n\u001b[0;32m     24\u001b[0m \u001b[1;31m# 地理平面被划分成的网格数目\u001b[0m\u001b[1;33m\u001b[0m\u001b[1;33m\u001b[0m\u001b[1;33m\u001b[0m\u001b[0m\n",
      "\u001b[1;31mNameError\u001b[0m: name 'math' is not defined"
     ]
    }
   ],
   "source": [
    "import math\n",
    "FILES_DIR = {\n",
    "    # 文件夹\n",
    "    \"taxiFilePath\": \"../data_in_use/taxi.json\", \n",
    "}\n",
    "writePath = {\n",
    "    \"taxiFilePath\" : \"../STCubeData/taxi.json\",\n",
    "    \"STCubePath\":\"../STCubeData/taxi.json\",\n",
    "    \"STCubeConfigPath\":\"../STCubeData/STCubeConfig.json\"\n",
    "}\n",
    "target = \"taxiFilePath\"\n",
    "splitLngNum = 10 #横向 划分的网格数目\n",
    "splitInterval = 10 #将一天划分的时间段长度，单位分钟，默认十分钟一个时间段\n",
    "# 120.593029,28.027669\n",
    "# 120.747524,27.958246\n",
    "area = {\n",
    "    \"minLat\" : 27.958246,\n",
    "    \"maxLat\" : 28.027669,\n",
    "    \"minLng\" : 120.593029,\n",
    "    \"maxLng\" : 120.747524\n",
    "}\n",
    "gridWidth = (area[\"maxLng\"]-area[\"minLng\"])/splitLngNum\n",
    "splitLatNum = math.ceil((area[\"maxLat\"]-area[\"minLat\"])/gridWidth)\n",
    "splitTimeNum = math.ceil(1440/splitInterval)\n",
    "# 地理平面被划分成的网格数目\n",
    "panelGridNum = splitLatNum*splitLngNum\n",
    "print(gridWidth)"
   ]
  },
  {
   "cell_type": "code",
   "execution_count": null,
   "metadata": {},
   "outputs": [],
   "source": [
    "#初始化时空立方体结构\n",
    "def initSTCubInfo():\n",
    "#     id,lat,lng,time,width\n",
    "    STCubInfo = []\n",
    "    for t in range(splitTimeNum):\n",
    "        for i in range(splitLatNum):\n",
    "            for j in range(splitLngNum):\n",
    "                STCubInfo.append({\"id\":panelGridNum*t+i*splitLngNum+j,\"lat\":area[\"minLat\"]+gridWidth*i,\"lng\":area[\"minLng\"]+gridWidth*j,\"time\":t})  \n",
    "    return STCubInfo"
   ]
  },
  {
   "cell_type": "code",
   "execution_count": null,
   "metadata": {},
   "outputs": [],
   "source": [
    "# def getValue():\n",
    "#     if testArea['minLat']==0 or point[\"latitude\"]<testArea['minLat']:\n",
    "#             print(carNo,point)\n",
    "#             testArea['minLat'] = point[\"latitude\"]\n",
    "#         if point[\"latitude\"]>testArea['maxLat']:\n",
    "#             testArea['maxLat'] = point[\"latitude\"]\n",
    "        \n",
    "#         if testArea['minLng']==0 or point[\"longitude\"]<testArea['minLng']:\n",
    "#             print(carNo,point)\n",
    "#             testArea['minLng'] = point[\"longitude\"]\n",
    "#         if point[\"longitude\"]>testArea['maxLng']:\n",
    "#             testArea['maxLng'] = point[\"longitude\"]\n",
    "# 根据id更新时空立方体\n",
    "def updateSTCub(STCub,gridID,trajID,order,points):\n",
    "    if gridID not in STCub.keys():\n",
    "        STCub[gridID] = {}#trajID,points\n",
    "    if trajID not in STCub[gridID].keys():\n",
    "        STCub[gridID][trajID] = {}\n",
    "    STCub[gridID][trajID][order] = points\n",
    "def inRange(point):\n",
    "    return point['longitude']>area[\"minLng\"] and point['longitude']<area[\"maxLng\"] and point[\"latitude\"]>area[\"minLat\"] and point[\"latitude\"]<area[\"maxLat\"]\n",
    "def splitTraj(traj,STCub):\n",
    "    points = []\n",
    "    lastGridID = None\n",
    "    order = 0\n",
    "    carNo = traj[\"carNo\"]\n",
    "    for point in traj[\"points\"]:\n",
    "        if not inRange(point):\n",
    "            continue\n",
    "        lngIndex = math.floor((point[\"longitude\"]-area[\"minLng\"])/gridWidth)\n",
    "        latIndex = math.floor((point[\"latitude\"]-area[\"minLat\"])/gridWidth)\n",
    "        time = [int(x) for x in point[\"time\"].split(' ')[1].split(':')[0:2]]\n",
    "        timeIndex = math.floor((time[0]*60+time[1])/splitInterval)\n",
    "        gridID = panelGridNum*timeIndex+latIndex*splitLngNum+lngIndex       \n",
    "#         当前点对应的网格不同，将当前points存入之前的网格\n",
    "        if lastGridID is None:\n",
    "            lastGridID = gridID\n",
    "        if lastGridID!=gridID:\n",
    "            #             插入网格内\n",
    "            if len(points)>0:\n",
    "                updateSTCub(STCub,lastGridID,carNo,order,points)\n",
    "                order+=1\n",
    "            lastGridID = gridID\n",
    "            points = []\n",
    "        points.append(point)\n",
    "    if len(points)>0:\n",
    "        updateSTCub(STCub,lastGridID,carNo,order,points)\n"
   ]
  },
  {
   "cell_type": "code",
   "execution_count": null,
   "metadata": {},
   "outputs": [],
   "source": [
    "def write_json_to_file(json_obj,filename):\n",
    "    with open(filename, 'w') as outfile:\n",
    "        json.dump(json_obj, outfile)\n",
    "    print(\"文件写入完成\")"
   ]
  },
  {
   "cell_type": "code",
   "execution_count": null,
   "metadata": {},
   "outputs": [],
   "source": [
    "# 读取json文件内容,返回字典格式\n",
    "import json\n",
    "# 划分时空立方体的分辨率\n",
    "config = {\n",
    "    \"splitLngNum\":splitLngNum,\n",
    "    \"splitLatNum\":splitLatNum,\n",
    "    \"splitInterval\":splitInterval,\n",
    "    \"splitTimeNum\":splitTimeNum,\n",
    "    \"gridWidth\":gridWidth,\n",
    "    \"area\" : {\n",
    "        \"minLat\" : 27.958246,\n",
    "        \"maxLat\" : 28.027669,\n",
    "        \"minLng\" : 120.593029,\n",
    "        \"maxLng\" : 120.747524\n",
    "}   \n",
    "}\n",
    "write_json_to_file(config,writePath[\"STCubeConfigPath\"])\n",
    "\n",
    "# 初始化时空立方体\n",
    "STCubInfo = initSTCubInfo()\n",
    "write_json_to_file(STCubInfo,writePath[\"STCubePath\"])\n",
    "\n",
    "with open(FILES_DIR[\"taxiFilePath\"],'r',encoding='utf8')as fp:\n",
    "    json_data = json.load(fp)\n",
    "    STCub = {}\n",
    "    for carInfo in json_data:\n",
    "        splitTraj(carInfo,STCub)\n",
    "    write_json_to_file(STCub,writePath[target])\n",
    "    \n",
    "#         \"carNo\"\n",
    "#         \"points\""
   ]
  },
  {
   "cell_type": "code",
   "execution_count": null,
   "metadata": {},
   "outputs": [],
   "source": []
  },
  {
   "cell_type": "code",
   "execution_count": null,
   "metadata": {},
   "outputs": [],
   "source": []
  }
 ],
 "metadata": {
  "kernelspec": {
   "display_name": "Python 3",
   "language": "python",
   "name": "python3"
  },
  "language_info": {
   "codemirror_mode": {
    "name": "ipython",
    "version": 3
   },
   "file_extension": ".py",
   "mimetype": "text/x-python",
   "name": "python",
   "nbconvert_exporter": "python",
   "pygments_lexer": "ipython3",
   "version": "3.7.4"
  }
 },
 "nbformat": 4,
 "nbformat_minor": 2
}
