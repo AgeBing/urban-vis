{
 "cells": [
  {
   "cell_type": "code",
   "execution_count": 152,
   "metadata": {},
   "outputs": [
    {
     "name": "stdout",
     "output_type": "stream",
     "text": [
      "0.015449499999999717\n"
     ]
    }
   ],
   "source": [
    "FILES_DIR = {\n",
    "    # 文件夹\n",
    "    \"taxiFilePath\": \"../data_in_use/taxi.json\", \n",
    "}\n",
    "writePath = {\n",
    "    \"taxiFilePath\" : \"../STCubeData/taxi.json\",\n",
    "    \"STCubePath\":\"../STCubeData/taxi.json\",\n",
    "    \"STCubeConfigPath\":\"../STCubeData/STCubeConfig.json\"\n",
    "}\n",
    "target = \"taxiFilePath\"\n",
    "splitLngNum = 10 #横向 划分的网格数目\n",
    "splitInterval = 10 #将一天划分的时间段长度，单位分钟，默认十分钟一个时间段\n",
    "# 120.593029,28.027669\n",
    "# 120.747524,27.958246\n",
    "area = {\n",
    "    \"minLat\" : 27.958246,\n",
    "    \"maxLat\" : 28.027669,\n",
    "    \"minLng\" : 120.593029,\n",
    "    \"maxLng\" : 120.747524\n",
    "}\n",
    "gridWidth = (area[\"maxLng\"]-area[\"minLng\"])/splitLngNum\n",
    "splitLatNum = math.ceil((area[\"maxLat\"]-area[\"minLat\"])/gridWidth)\n",
    "splitTimeNum = math.ceil(1440/splitInterval)\n",
    "# 地理平面被划分成的网格数目\n",
    "panelGridNum = splitLatNum*splitLngNum\n",
    "print(gridWidth)"
   ]
  },
  {
   "cell_type": "code",
   "execution_count": 153,
   "metadata": {},
   "outputs": [],
   "source": [
    "import math\n",
    "#初始化时空立方体结构\n",
    "def initSTCubInfo():\n",
    "#     id,lat,lng,time,width\n",
    "    STCubInfo = []\n",
    "    for t in range(splitTimeNum):\n",
    "        for i in range(splitLatNum):\n",
    "            for j in range(splitLngNum):\n",
    "                STCubInfo.append({\"id\":panelGridNum*t+i*splitLngNum+j,\"lat\":area[\"minLat\"]+gridWidth*i,\"lng\":area[\"minLng\"]+gridWidth*j,\"time\":t})  \n",
    "    return STCubInfo"
   ]
  },
  {
   "cell_type": "code",
   "execution_count": 154,
   "metadata": {},
   "outputs": [],
   "source": [
    "# def getValue():\n",
    "#     if testArea['minLat']==0 or point[\"latitude\"]<testArea['minLat']:\n",
    "#             print(carNo,point)\n",
    "#             testArea['minLat'] = point[\"latitude\"]\n",
    "#         if point[\"latitude\"]>testArea['maxLat']:\n",
    "#             testArea['maxLat'] = point[\"latitude\"]\n",
    "        \n",
    "#         if testArea['minLng']==0 or point[\"longitude\"]<testArea['minLng']:\n",
    "#             print(carNo,point)\n",
    "#             testArea['minLng'] = point[\"longitude\"]\n",
    "#         if point[\"longitude\"]>testArea['maxLng']:\n",
    "#             testArea['maxLng'] = point[\"longitude\"]\n",
    "# 根据id更新时空立方体\n",
    "def updateSTCub(STCub,gridID,trajID,order,points):\n",
    "    if gridID not in STCub.keys():\n",
    "        STCub[gridID] = {}#trajID,points\n",
    "    if trajID not in STCub[gridID].keys():\n",
    "        STCub[gridID][trajID] = {}\n",
    "    STCub[gridID][trajID][order] = points\n",
    "def inRange(point):\n",
    "    return point['longitude']>area[\"minLng\"] and point['longitude']<area[\"maxLng\"] and point[\"latitude\"]>area[\"minLat\"] and point[\"latitude\"]<area[\"maxLat\"]\n",
    "def splitTraj(traj,STCub):\n",
    "    points = []\n",
    "    lastGridID = None\n",
    "    order = 0\n",
    "    carNo = traj[\"carNo\"]\n",
    "    for point in traj[\"points\"]:\n",
    "        if not inRange(point):\n",
    "            continue\n",
    "        point = {}\n",
    "        point[\"longitude\"] = 120.5985031128\n",
    "        point[\"latitude\"]= 28.0261802673\n",
    "        point[\"time\"]= \"2014-01-01 00:00:31\"\n",
    "        lngIndex = math.floor((point[\"longitude\"]-area[\"minLng\"])/gridWidth)\n",
    "        latIndex = math.floor((point[\"latitude\"]-area[\"minLat\"])/gridWidth)\n",
    "        time = [int(x) for x in point[\"time\"].split(' ')[1].split(':')[0:2]]\n",
    "        timeIndex = math.floor((time[0]*60+time[1])/splitInterval)\n",
    "        gridID = panelGridNum*timeIndex+latIndex*splitLngNum+lngIndex       \n",
    "#         当前点对应的网格不同，将当前points存入之前的网格\n",
    "        if lastGridID is None:\n",
    "            lastGridID = gridID\n",
    "        if lastGridID!=gridID:\n",
    "            #             插入网格内\n",
    "            if len(points)>0:\n",
    "                updateSTCub(STCub,lastGridID,carNo,order,points)\n",
    "                order+=1\n",
    "            lastGridID = gridID\n",
    "            points = []\n",
    "        points.append(point)\n",
    "    if len(points)>0:\n",
    "        updateSTCub(STCub,lastGridID,carNo,order,points)\n"
   ]
  },
  {
   "cell_type": "code",
   "execution_count": 155,
   "metadata": {},
   "outputs": [],
   "source": [
    "def write_json_to_file(json_obj,filename):\n",
    "    with open(filename, 'w') as outfile:\n",
    "        json.dump(json_obj, outfile)\n",
    "    print(\"文件写入完成\")"
   ]
  },
  {
   "cell_type": "code",
   "execution_count": 156,
   "metadata": {},
   "outputs": [
    {
     "name": "stdout",
     "output_type": "stream",
     "text": [
      "文件写入完成\n",
      "文件写入完成\n",
      "文件写入完成\n"
     ]
    }
   ],
   "source": [
    "# 读取json文件内容,返回字典格式\n",
    "import json\n",
    "# 划分时空立方体的分辨率\n",
    "config = {\n",
    "    \"splitLngNum\":splitLngNum,\n",
    "    \"splitLatNum\":splitLatNum,\n",
    "    \"splitInterval\":splitInterval,\n",
    "    \"splitTimeNum\":splitTimeNum,\n",
    "    \"gridWidth\":gridWidth,\n",
    "    \"area\" : {\n",
    "        \"minLat\" : 27.958246,\n",
    "        \"maxLat\" : 28.027669,\n",
    "        \"minLng\" : 120.593029,\n",
    "        \"maxLng\" : 120.747524\n",
    "}   \n",
    "}\n",
    "write_json_to_file(config,writePath[\"STCubeConfigPath\"])\n",
    "\n",
    "# 初始化时空立方体\n",
    "STCubInfo = initSTCubInfo()\n",
    "write_json_to_file(STCubInfo,writePath[\"STCubePath\"])\n",
    "\n",
    "with open(FILES_DIR[\"taxiFilePath\"],'r',encoding='utf8')as fp:\n",
    "    json_data = json.load(fp)\n",
    "    STCub = {}\n",
    "    for carInfo in json_data:\n",
    "        splitTraj(carInfo,STCub)\n",
    "    write_json_to_file(STCub,writePath[target])\n",
    "    \n",
    "#         \"carNo\"\n",
    "#         \"points\""
   ]
  },
  {
   "cell_type": "code",
   "execution_count": null,
   "metadata": {},
   "outputs": [],
   "source": []
  },
  {
   "cell_type": "code",
   "execution_count": null,
   "metadata": {},
   "outputs": [],
   "source": []
  }
 ],
 "metadata": {
  "kernelspec": {
   "display_name": "Python 3",
   "language": "python",
   "name": "python3"
  },
  "language_info": {
   "codemirror_mode": {
    "name": "ipython",
    "version": 3
   },
   "file_extension": ".py",
   "mimetype": "text/x-python",
   "name": "python",
   "nbconvert_exporter": "python",
   "pygments_lexer": "ipython3",
   "version": "3.7.4"
  }
 },
 "nbformat": 4,
 "nbformat_minor": 2
}
