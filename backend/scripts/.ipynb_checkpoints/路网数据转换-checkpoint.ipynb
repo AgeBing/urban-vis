{
 "cells": [
  {
   "cell_type": "code",
   "execution_count": 18,
   "metadata": {
    "scrolled": false
   },
   "outputs": [
    {
     "name": "stdout",
     "output_type": "stream",
     "text": [
      "4595\n"
     ]
    }
   ],
   "source": [
    "FILE_NAME = 'roads01'\n",
    "file = \"../data/\" + FILE_NAME + \".txt\n",
    "\n",
    "roads = []\n",
    "for f in open(file, \"r\"):\n",
    "    roads = eval(f)\n",
    "\n",
    "print(len(roads))"
   ]
  },
  {
   "cell_type": "code",
   "execution_count": 23,
   "metadata": {},
   "outputs": [],
   "source": [
    "import json\n",
    "roadsJson = []\n",
    "outputFile = '../data/' + FILE_NAME +'.json'\n"
   ]
  },
  {
   "cell_type": "code",
   "execution_count": 26,
   "metadata": {},
   "outputs": [],
   "source": [
    "for road in roads:\n",
    "    roadJson = []\n",
    "    for point in road:\n",
    "        roadJson.append(\n",
    "            [point[0], point[1]]\n",
    "        )\n",
    "    roadsJson.append(roadJson)"
   ]
  },
  {
   "cell_type": "code",
   "execution_count": 27,
   "metadata": {},
   "outputs": [],
   "source": [
    "with open(outputFile, 'w') as outfile:\n",
    "    json.dump(roadsJson, outfile)"
   ]
  }
 ],
 "metadata": {
  "kernelspec": {
   "display_name": "Python 3",
   "language": "python",
   "name": "python3"
  },
  "language_info": {
   "codemirror_mode": {
    "name": "ipython",
    "version": 3
   },
   "file_extension": ".py",
   "mimetype": "text/x-python",
   "name": "python",
   "nbconvert_exporter": "python",
   "pygments_lexer": "ipython3",
   "version": "3.8.3"
  }
 },
 "nbformat": 4,
 "nbformat_minor": 4
}
