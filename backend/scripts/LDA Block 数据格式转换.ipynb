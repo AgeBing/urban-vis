{
 "cells": [
  {
   "cell_type": "code",
   "execution_count": 14,
   "metadata": {},
   "outputs": [],
   "source": [
    "\n",
    "file = '../data/LDAblocks 20201013/CombinedBlocksByLDATopic.txt'\n",
    "for f in open(file, \"r\"):\n",
    "    blocks = eval(f)\n",
    "\n",
    "blocksJson = []\n",
    "\n",
    "# Block Topic\n",
    "file1 = '../data/LDAblocks 20201013/CombinedTopicsByLDATopic.txt'\n",
    "for f in open(file1, \"r\"):\n",
    "    topics = eval(f)"
   ]
  },
  {
   "cell_type": "code",
   "execution_count": 15,
   "metadata": {},
   "outputs": [],
   "source": [
    "def transBlock(points, i):\n",
    "    oneBlock = []\n",
    "    for point in points:\n",
    "#         print(point, i)\n",
    "        oneBlock.append({\n",
    "            \"lng\": point[1],\n",
    "            \"lat\": point[0]\n",
    "        })\n",
    "    if(len(oneBlock) > 0):\n",
    "        blocksJson.append({\n",
    "            \"topic\": topics[i],\n",
    "            \"block\": oneBlock\n",
    "        })"
   ]
  },
  {
   "cell_type": "code",
   "execution_count": 16,
   "metadata": {},
   "outputs": [
    {
     "name": "stdout",
     "output_type": "stream",
     "text": [
      "\n",
      "\n",
      "\n",
      "\n",
      "\n",
      "\n",
      "\n",
      "\n",
      "\n",
      "\n",
      "\n",
      "\n",
      "\n",
      "\n",
      "\n",
      "\n",
      "\n",
      "\n",
      "\n",
      "\n",
      "\n",
      "\n",
      "\n",
      "\n",
      "\n",
      "\n",
      "\n",
      "\n",
      "\n",
      "\n",
      "\n",
      "\n"
     ]
    }
   ],
   "source": [
    "for i in range(0, len(blocks)):\n",
    "    block = blocks[i]\n",
    "    if(len(block) != 2 and len(block[0]) == 2):\n",
    "        transBlock(block, i)\n",
    "    else:\n",
    "        print()\n",
    "#         print(len(block[0]))\n",
    "#         if(len(block[0]) != 2):\n",
    "#             print(block[0])\n",
    "#             for b in block[0]:\n",
    "#                 print(b);\n",
    "#         transBlock(block[0], i) # 外圈\n",
    "#         transBlock(block[1])  # 内圈"
   ]
  },
  {
   "cell_type": "code",
   "execution_count": 17,
   "metadata": {},
   "outputs": [
    {
     "name": "stdout",
     "output_type": "stream",
     "text": [
      "多边形区域 数量637\n",
      "主题 数量669\n"
     ]
    }
   ],
   "source": [
    "print(\"多边形区域 数量\" + str(len(blocksJson)))\n",
    "print(\"主题 数量\" + str(len(topics)))"
   ]
  },
  {
   "cell_type": "code",
   "execution_count": 18,
   "metadata": {},
   "outputs": [],
   "source": [
    "# 转存 文件\n",
    "import json\n",
    "outputFile = \"../data/blocks.json\"\n",
    "with open(outputFile, 'w') as outfile:\n",
    "    json.dump(blocksJson, outfile)"
   ]
  },
  {
   "cell_type": "code",
   "execution_count": null,
   "metadata": {},
   "outputs": [],
   "source": []
  }
 ],
 "metadata": {
  "kernelspec": {
   "display_name": "Python 3",
   "language": "python",
   "name": "python3"
  },
  "language_info": {
   "codemirror_mode": {
    "name": "ipython",
    "version": 3
   },
   "file_extension": ".py",
   "mimetype": "text/x-python",
   "name": "python",
   "nbconvert_exporter": "python",
   "pygments_lexer": "ipython3",
   "version": "3.8.3"
  }
 },
 "nbformat": 4,
 "nbformat_minor": 4
}
